{
  "nbformat": 4,
  "nbformat_minor": 0,
  "metadata": {
    "colab": {
      "provenance": []
    },
    "kernelspec": {
      "name": "python3",
      "display_name": "Python 3"
    },
    "language_info": {
      "name": "python"
    }
  },
  "cells": [
    {
      "cell_type": "code",
      "source": [
        "'''\n",
        "Student 1 Ngum Dieudonne\n",
        "student 2 Abubakar Ahmed\n",
        "\n",
        "Complete the code as discussed the class :\n",
        "Load any data of you choice\n",
        "Make sure you clearly define the X and the Y after loading\n",
        "Ensure the number of classes is accurate\n",
        "Add atleast 1 layer with 128 neurons\n",
        "\n",
        "compilte and fit to data\n",
        "'''"
      ],
      "metadata": {
        "id": "O8K2N17MaLOm"
      },
      "execution_count": null,
      "outputs": []
    },
    {
      "cell_type": "code",
      "source": [
        "import tensorflow as tf\n",
        "import numpy as np\n",
        "import matplotlib.pyplot as plt\n",
        "import pandas\n",
        "import seaborn\n",
        "import pandas as pd\n",
        "import numpy as np\n"
      ],
      "metadata": {
        "id": "b_CQypsVH2Qi"
      },
      "execution_count": null,
      "outputs": []
    },
    {
      "cell_type": "code",
      "source": [
        "#import data\n",
        "data = pd.read_csv('/content/customer_churn_dataset.csv')\n",
        "\n",
        "# Display the first few rows\n",
        "print(data.head())\n"
      ],
      "metadata": {
        "id": "29cgd7AGItH1",
        "outputId": "60299a55-2a29-48b7-93dc-f16657832bbf",
        "colab": {
          "base_uri": "https://localhost:8080/"
        }
      },
      "execution_count": null,
      "outputs": [
        {
          "output_type": "stream",
          "name": "stdout",
          "text": [
            "   CustomerID  Age  Income  SubscriptionYears  UsageMinutesPerDay  Churn\n",
            "0           1   56   54674                  5              143.89      1\n",
            "1           2   69   55854                  5              140.98      1\n",
            "2           3   46   66271                  9              275.05      0\n",
            "3           4   32   93688                  2              222.79      0\n",
            "4           5   60   58518                  2              194.13      1\n"
          ]
        }
      ]
    },
    {
      "cell_type": "code",
      "source": [
        "#Assume i have pre-processing\n",
        "y = [0,0,0,0,0,1,1,1,1,1,]\n",
        "num_classes = len(set(y))"
      ],
      "metadata": {
        "id": "OlaWbsqeI2xc"
      },
      "execution_count": null,
      "outputs": []
    },
    {
      "cell_type": "code",
      "source": [
        "from sklearn.model_selection import train_test_split\n",
        "from sklearn.preprocessing import LabelEncoder, StandardScaler\n",
        "from tensorflow.keras.models import Sequential\n",
        "from tensorflow.keras.layers import Dense\n",
        "from tensorflow.keras.utils import to_categorical"
      ],
      "metadata": {
        "id": "jq3ic8mmI7IF"
      },
      "execution_count": null,
      "outputs": []
    },
    {
      "cell_type": "code",
      "source": [
        "# Encode categorical labels (Assume 'Churn' is the target)\n",
        "label_encoder = LabelEncoder()\n",
        "data['Churn'] = label_encoder.fit_transform(data['Churn'])  # Convert target to binary (0/1)\n",
        "\n",
        "# Select features (X) and labels (Y)\n",
        "X = data.drop(columns=['Churn'])\n",
        "Y = data['Churn']\n",
        "\n",
        "# Standardize features\n",
        "scaler = StandardScaler()\n",
        "X = scaler.fit_transform(X)\n",
        "\n",
        "# One-hot encode the labels if necessary (for classification with > 2 classes)\n",
        "Y = to_categorical(Y)\n",
        "\n",
        "# Split the data into train and test sets\n",
        "X_train, X_test, Y_train, Y_test = train_test_split(X, Y, test_size=0.2, random_state=42)\n"
      ],
      "metadata": {
        "id": "ICDNglQl0bJF"
      },
      "execution_count": null,
      "outputs": []
    },
    {
      "cell_type": "code",
      "source": [
        "# Define the model\n",
        "num_classes = Y.shape[1]  # Number of output classes\n",
        "\n",
        "model = Sequential()\n",
        "model.add(Dense(128, input_shape=(X.shape[1],), activation='relu'))  # Hidden layer with 128 neurons\n",
        "model.add(Dense(64, activation='relu'))                              #  hidden layer 2\n",
        "model.add(Dense(num_classes, activation='softmax'))                  # Output layer\n"
      ],
      "metadata": {
        "colab": {
          "base_uri": "https://localhost:8080/"
        },
        "id": "J_KQUSREKFvj",
        "outputId": "58ff2663-7f59-4827-e072-163291ea6b3a"
      },
      "execution_count": null,
      "outputs": [
        {
          "output_type": "stream",
          "name": "stderr",
          "text": [
            "/usr/local/lib/python3.11/dist-packages/keras/src/layers/core/dense.py:87: UserWarning: Do not pass an `input_shape`/`input_dim` argument to a layer. When using Sequential models, prefer using an `Input(shape)` object as the first layer in the model instead.\n",
            "  super().__init__(activity_regularizer=activity_regularizer, **kwargs)\n"
          ]
        }
      ]
    },
    {
      "cell_type": "code",
      "source": [
        "# Compile the model\n",
        "model.compile(optimizer='adam', loss='categorical_crossentropy', metrics=['accuracy'])"
      ],
      "metadata": {
        "id": "tho6EWhoURGB"
      },
      "execution_count": null,
      "outputs": []
    },
    {
      "cell_type": "code",
      "source": [
        "# Train the model\n",
        "history = model.fit(X_train, Y_train, epochs=10, batch_size=32, validation_split=0.2, verbose=1)\n"
      ],
      "metadata": {
        "id": "ZWFf6unmURwY",
        "outputId": "d6a48fd1-6803-492a-aa71-518dcd47c183",
        "colab": {
          "base_uri": "https://localhost:8080/"
        }
      },
      "execution_count": null,
      "outputs": [
        {
          "output_type": "stream",
          "name": "stdout",
          "text": [
            "Epoch 1/10\n",
            "\u001b[1m20/20\u001b[0m \u001b[32m━━━━━━━━━━━━━━━━━━━━\u001b[0m\u001b[37m\u001b[0m \u001b[1m2s\u001b[0m 21ms/step - accuracy: 0.5208 - loss: 0.6989 - val_accuracy: 0.6625 - val_loss: 0.6773\n",
            "Epoch 2/10\n",
            "\u001b[1m20/20\u001b[0m \u001b[32m━━━━━━━━━━━━━━━━━━━━\u001b[0m\u001b[37m\u001b[0m \u001b[1m0s\u001b[0m 5ms/step - accuracy: 0.7129 - loss: 0.6106 - val_accuracy: 0.6625 - val_loss: 0.6505\n",
            "Epoch 3/10\n",
            "\u001b[1m20/20\u001b[0m \u001b[32m━━━━━━━━━━━━━━━━━━━━\u001b[0m\u001b[37m\u001b[0m \u001b[1m0s\u001b[0m 5ms/step - accuracy: 0.6968 - loss: 0.6027 - val_accuracy: 0.6625 - val_loss: 0.6568\n",
            "Epoch 4/10\n",
            "\u001b[1m20/20\u001b[0m \u001b[32m━━━━━━━━━━━━━━━━━━━━\u001b[0m\u001b[37m\u001b[0m \u001b[1m0s\u001b[0m 4ms/step - accuracy: 0.7401 - loss: 0.5624 - val_accuracy: 0.6625 - val_loss: 0.6555\n",
            "Epoch 5/10\n",
            "\u001b[1m20/20\u001b[0m \u001b[32m━━━━━━━━━━━━━━━━━━━━\u001b[0m\u001b[37m\u001b[0m \u001b[1m0s\u001b[0m 3ms/step - accuracy: 0.7096 - loss: 0.5921 - val_accuracy: 0.6625 - val_loss: 0.6598\n",
            "Epoch 6/10\n",
            "\u001b[1m20/20\u001b[0m \u001b[32m━━━━━━━━━━━━━━━━━━━━\u001b[0m\u001b[37m\u001b[0m \u001b[1m0s\u001b[0m 4ms/step - accuracy: 0.7094 - loss: 0.5746 - val_accuracy: 0.6625 - val_loss: 0.6640\n",
            "Epoch 7/10\n",
            "\u001b[1m20/20\u001b[0m \u001b[32m━━━━━━━━━━━━━━━━━━━━\u001b[0m\u001b[37m\u001b[0m \u001b[1m0s\u001b[0m 3ms/step - accuracy: 0.7217 - loss: 0.5657 - val_accuracy: 0.6625 - val_loss: 0.6646\n",
            "Epoch 8/10\n",
            "\u001b[1m20/20\u001b[0m \u001b[32m━━━━━━━━━━━━━━━━━━━━\u001b[0m\u001b[37m\u001b[0m \u001b[1m0s\u001b[0m 4ms/step - accuracy: 0.7187 - loss: 0.5625 - val_accuracy: 0.6625 - val_loss: 0.6656\n",
            "Epoch 9/10\n",
            "\u001b[1m20/20\u001b[0m \u001b[32m━━━━━━━━━━━━━━━━━━━━\u001b[0m\u001b[37m\u001b[0m \u001b[1m0s\u001b[0m 3ms/step - accuracy: 0.7257 - loss: 0.5658 - val_accuracy: 0.6625 - val_loss: 0.6683\n",
            "Epoch 10/10\n",
            "\u001b[1m20/20\u001b[0m \u001b[32m━━━━━━━━━━━━━━━━━━━━\u001b[0m\u001b[37m\u001b[0m \u001b[1m0s\u001b[0m 4ms/step - accuracy: 0.7044 - loss: 0.5769 - val_accuracy: 0.6625 - val_loss: 0.6752\n"
          ]
        }
      ]
    },
    {
      "cell_type": "code",
      "source": [
        "# Save the trained model\n",
        "model.save('customer_churn_model.h5')\n",
        "print(\"Model saved successfully!\")\n"
      ],
      "metadata": {
        "id": "eF_H_mI9V5zp",
        "outputId": "a0a4fefa-355d-4986-9668-7e11ef85a43f",
        "colab": {
          "base_uri": "https://localhost:8080/"
        }
      },
      "execution_count": null,
      "outputs": [
        {
          "output_type": "stream",
          "name": "stderr",
          "text": [
            "WARNING:absl:You are saving your model as an HDF5 file via `model.save()` or `keras.saving.save_model(model)`. This file format is considered legacy. We recommend using instead the native Keras format, e.g. `model.save('my_model.keras')` or `keras.saving.save_model(model, 'my_model.keras')`. \n"
          ]
        },
        {
          "output_type": "stream",
          "name": "stdout",
          "text": [
            "Model saved successfully!\n"
          ]
        }
      ]
    },
    {
      "cell_type": "code",
      "source": [
        "# Load the model and make predictions\n",
        "from tensorflow.keras.models import load_model"
      ],
      "metadata": {
        "id": "vURqv9kZ1hHi"
      },
      "execution_count": null,
      "outputs": []
    },
    {
      "cell_type": "code",
      "source": [
        "# Load saved model\n",
        "loaded_model = load_model('customer_churn_model.h5')"
      ],
      "metadata": {
        "id": "7EDarXxD10oK",
        "outputId": "5435bf8c-ee9b-4153-fb90-c6019ca3790c",
        "colab": {
          "base_uri": "https://localhost:8080/"
        }
      },
      "execution_count": null,
      "outputs": [
        {
          "output_type": "stream",
          "name": "stderr",
          "text": [
            "WARNING:absl:Compiled the loaded model, but the compiled metrics have yet to be built. `model.compile_metrics` will be empty until you train or evaluate the model.\n"
          ]
        }
      ]
    },
    {
      "cell_type": "code",
      "source": [
        "# Predict on test data\n",
        "predictions = loaded_model.predict(X_test)\n",
        "print(\"Predictions:\\n\", predictions)"
      ],
      "metadata": {
        "id": "Gb_KSC8ZV95w",
        "outputId": "a3df8af0-80dd-470f-ea58-193fda42b5b8",
        "colab": {
          "base_uri": "https://localhost:8080/"
        }
      },
      "execution_count": null,
      "outputs": [
        {
          "output_type": "stream",
          "name": "stdout",
          "text": [
            "\u001b[1m7/7\u001b[0m \u001b[32m━━━━━━━━━━━━━━━━━━━━\u001b[0m\u001b[37m\u001b[0m \u001b[1m0s\u001b[0m 7ms/step \n",
            "Predictions:\n",
            " [[0.8713846  0.1286153 ]\n",
            " [0.6720842  0.32791576]\n",
            " [0.85338366 0.14661628]\n",
            " [0.76693016 0.23306994]\n",
            " [0.6441893  0.35581076]\n",
            " [0.6881892  0.31181076]\n",
            " [0.76795065 0.23204926]\n",
            " [0.582016   0.41798407]\n",
            " [0.8738501  0.12614985]\n",
            " [0.6945395  0.30546048]\n",
            " [0.73317003 0.2668299 ]\n",
            " [0.6797654  0.32023466]\n",
            " [0.7990041  0.20099597]\n",
            " [0.8912244  0.10877553]\n",
            " [0.85759556 0.14240445]\n",
            " [0.81854045 0.18145947]\n",
            " [0.7586544  0.24134557]\n",
            " [0.725042   0.27495804]\n",
            " [0.69336414 0.30663577]\n",
            " [0.7019388  0.29806113]\n",
            " [0.7183274  0.28167263]\n",
            " [0.6756023  0.3243977 ]\n",
            " [0.7316169  0.26838306]\n",
            " [0.71834    0.28166   ]\n",
            " [0.8263871  0.17361286]\n",
            " [0.7200571  0.27994305]\n",
            " [0.89759433 0.1024056 ]\n",
            " [0.7110681  0.28893182]\n",
            " [0.6427566  0.35724336]\n",
            " [0.87470657 0.12529348]\n",
            " [0.69362766 0.30637234]\n",
            " [0.66880876 0.33119127]\n",
            " [0.6684227  0.33157733]\n",
            " [0.9165806  0.08341938]\n",
            " [0.7607973  0.23920265]\n",
            " [0.87848926 0.12151075]\n",
            " [0.7792807  0.22071928]\n",
            " [0.90307367 0.09692637]\n",
            " [0.67519885 0.32480118]\n",
            " [0.6940675  0.30593255]\n",
            " [0.74008566 0.25991425]\n",
            " [0.7465406  0.25345936]\n",
            " [0.703513   0.29648697]\n",
            " [0.7686986  0.23130147]\n",
            " [0.66805315 0.33194685]\n",
            " [0.67814946 0.32185045]\n",
            " [0.8016663  0.19833358]\n",
            " [0.6909832  0.30901676]\n",
            " [0.8089749  0.19102508]\n",
            " [0.7289104  0.27108958]\n",
            " [0.86499375 0.13500625]\n",
            " [0.83202815 0.16797183]\n",
            " [0.86230165 0.13769832]\n",
            " [0.7826279  0.21737209]\n",
            " [0.89876944 0.10123058]\n",
            " [0.7231309  0.27686915]\n",
            " [0.86946297 0.13053693]\n",
            " [0.77554    0.22445992]\n",
            " [0.8051066  0.19489339]\n",
            " [0.788289   0.21171102]\n",
            " [0.6014631  0.39853683]\n",
            " [0.8671195  0.13288057]\n",
            " [0.65463364 0.3453663 ]\n",
            " [0.8220685  0.17793147]\n",
            " [0.6735444  0.32645553]\n",
            " [0.6188209  0.38117903]\n",
            " [0.6286476  0.37135231]\n",
            " [0.7679245  0.23207551]\n",
            " [0.7036408  0.29635927]\n",
            " [0.82301533 0.17698471]\n",
            " [0.6868919  0.31310794]\n",
            " [0.64906627 0.3509338 ]\n",
            " [0.5876614  0.4123386 ]\n",
            " [0.701231   0.29876894]\n",
            " [0.7639089  0.23609099]\n",
            " [0.8122938  0.18770614]\n",
            " [0.64700747 0.35299256]\n",
            " [0.5539802  0.4460197 ]\n",
            " [0.689329   0.31067097]\n",
            " [0.650692   0.34930795]\n",
            " [0.6802108  0.31978914]\n",
            " [0.62595147 0.3740485 ]\n",
            " [0.6387457  0.3612543 ]\n",
            " [0.68924    0.31076002]\n",
            " [0.69485307 0.30514705]\n",
            " [0.6040323  0.39596775]\n",
            " [0.7742532  0.22574677]\n",
            " [0.810686   0.18931392]\n",
            " [0.73381716 0.26618278]\n",
            " [0.6637023  0.33629763]\n",
            " [0.76175743 0.23824255]\n",
            " [0.67074704 0.32925287]\n",
            " [0.7958348  0.20416516]\n",
            " [0.7072734  0.2927266 ]\n",
            " [0.7355354  0.26446462]\n",
            " [0.740145   0.2598549 ]\n",
            " [0.81512344 0.18487653]\n",
            " [0.6859421  0.31405798]\n",
            " [0.5482165  0.45178342]\n",
            " [0.8073362  0.19266386]\n",
            " [0.85926276 0.14073716]\n",
            " [0.5582576  0.4417425 ]\n",
            " [0.67512906 0.324871  ]\n",
            " [0.6011003  0.39889973]\n",
            " [0.6921612  0.3078387 ]\n",
            " [0.70450187 0.295498  ]\n",
            " [0.73803777 0.2619622 ]\n",
            " [0.8023397  0.19766036]\n",
            " [0.6830312  0.3169688 ]\n",
            " [0.8118287  0.18817136]\n",
            " [0.6841142  0.31588575]\n",
            " [0.5760572  0.42394274]\n",
            " [0.7969625  0.20303749]\n",
            " [0.63259214 0.36740786]\n",
            " [0.6800702  0.31992972]\n",
            " [0.66214865 0.33785138]\n",
            " [0.7145375  0.28546247]\n",
            " [0.7189064  0.2810936 ]\n",
            " [0.8440263  0.15597354]\n",
            " [0.8322261  0.16777392]\n",
            " [0.6821628  0.31783724]\n",
            " [0.5075315  0.4924685 ]\n",
            " [0.7808377  0.21916234]\n",
            " [0.600127   0.39987308]\n",
            " [0.8055637  0.19443643]\n",
            " [0.63475895 0.36524105]\n",
            " [0.64282364 0.35717636]\n",
            " [0.65242445 0.34757555]\n",
            " [0.7692373  0.23076275]\n",
            " [0.7794814  0.22051859]\n",
            " [0.7209103  0.27908966]\n",
            " [0.8142164  0.18578354]\n",
            " [0.7146058  0.28539416]\n",
            " [0.81049675 0.1895033 ]\n",
            " [0.7670651  0.23293479]\n",
            " [0.64680547 0.35319453]\n",
            " [0.7129271  0.2870729 ]\n",
            " [0.6567     0.34330007]\n",
            " [0.6570399  0.34296018]\n",
            " [0.8620165  0.13798349]\n",
            " [0.8260967  0.17390318]\n",
            " [0.62171733 0.3782827 ]\n",
            " [0.63067806 0.36932188]\n",
            " [0.58829504 0.41170493]\n",
            " [0.77187884 0.22812116]\n",
            " [0.74444425 0.25555584]\n",
            " [0.84046435 0.1595357 ]\n",
            " [0.7951219  0.20487803]\n",
            " [0.6862553  0.31374466]\n",
            " [0.7383701  0.2616299 ]\n",
            " [0.77555895 0.224441  ]\n",
            " [0.56380635 0.43619365]\n",
            " [0.53840655 0.4615934 ]\n",
            " [0.88481367 0.11518631]\n",
            " [0.7429888  0.25701126]\n",
            " [0.50736004 0.49264002]\n",
            " [0.7484811  0.25151888]\n",
            " [0.7975885  0.20241158]\n",
            " [0.74916637 0.2508336 ]\n",
            " [0.76674986 0.23325008]\n",
            " [0.7838662  0.21613376]\n",
            " [0.6869908  0.3130092 ]\n",
            " [0.6577498  0.34225023]\n",
            " [0.73377866 0.26622126]\n",
            " [0.6202701  0.37972987]\n",
            " [0.6402944  0.35970572]\n",
            " [0.81826365 0.18173625]\n",
            " [0.8966493  0.1033507 ]\n",
            " [0.5729729  0.4270271 ]\n",
            " [0.6982138  0.30178615]\n",
            " [0.654044   0.345956  ]\n",
            " [0.6057453  0.39425457]\n",
            " [0.6889212  0.31107876]\n",
            " [0.7875663  0.21243374]\n",
            " [0.7084378  0.29156214]\n",
            " [0.7508533  0.24914663]\n",
            " [0.6545487  0.34545133]\n",
            " [0.74879295 0.251207  ]\n",
            " [0.74721825 0.25278172]\n",
            " [0.7156425  0.28435746]\n",
            " [0.6977915  0.3022084 ]\n",
            " [0.71129584 0.28870413]\n",
            " [0.60400516 0.39599493]\n",
            " [0.7435185  0.25648147]\n",
            " [0.7007857  0.29921427]\n",
            " [0.6415047  0.35849524]\n",
            " [0.78618956 0.21381041]\n",
            " [0.6012108  0.39878923]\n",
            " [0.78088623 0.21911384]\n",
            " [0.69115406 0.3088459 ]\n",
            " [0.810137   0.18986301]\n",
            " [0.582665   0.41733494]\n",
            " [0.6445225  0.35547748]\n",
            " [0.6334366  0.3665634 ]\n",
            " [0.70685166 0.29314837]\n",
            " [0.7237395  0.27626047]\n",
            " [0.66179603 0.33820394]\n",
            " [0.5488692  0.45113087]\n",
            " [0.7877908  0.21220924]\n",
            " [0.7335634  0.26643655]]\n"
          ]
        }
      ]
    },
    {
      "cell_type": "code",
      "source": [
        "# Predict on test data\n",
        "predictions = model.predict(X_test)"
      ],
      "metadata": {
        "id": "NpVeSKZn2ELx",
        "outputId": "5ca2cd1c-b900-47cc-f09b-27da803fcb44",
        "colab": {
          "base_uri": "https://localhost:8080/"
        }
      },
      "execution_count": null,
      "outputs": [
        {
          "output_type": "stream",
          "name": "stdout",
          "text": [
            "\u001b[1m7/7\u001b[0m \u001b[32m━━━━━━━━━━━━━━━━━━━━\u001b[0m\u001b[37m\u001b[0m \u001b[1m0s\u001b[0m 7ms/step \n"
          ]
        }
      ]
    },
    {
      "cell_type": "code",
      "source": [
        "# Convert predictions back to class labels\n",
        "predicted_classes = np.argmax(predictions, axis=1)\n",
        "print(\"Predicted Classes:\\n\", predicted_classes)"
      ],
      "metadata": {
        "id": "IcWMYwpU2PAh",
        "outputId": "71764375-0f5f-4df8-c770-54179543fa11",
        "colab": {
          "base_uri": "https://localhost:8080/"
        }
      },
      "execution_count": null,
      "outputs": [
        {
          "output_type": "stream",
          "name": "stdout",
          "text": [
            "Predicted Classes:\n",
            " [0 0 0 0 0 0 0 0 0 0 0 0 0 0 0 0 0 0 0 0 0 0 0 0 0 0 0 0 0 0 0 0 0 0 0 0 0\n",
            " 0 0 0 0 0 0 0 0 0 0 0 0 0 0 0 0 0 0 0 0 0 0 0 0 0 0 0 0 0 0 0 0 0 0 0 0 0\n",
            " 0 0 0 0 0 0 0 0 0 0 0 0 0 0 0 0 0 0 0 0 0 0 0 0 0 0 0 0 0 0 0 0 0 0 0 0 0\n",
            " 0 0 0 0 0 0 0 0 0 0 0 0 0 0 0 0 0 0 0 0 0 0 0 0 0 0 0 0 0 0 0 0 0 0 0 0 0\n",
            " 0 0 0 0 0 0 0 0 0 0 0 0 0 0 0 0 0 0 0 0 0 0 0 0 0 0 0 0 0 0 0 0 0 0 0 0 0\n",
            " 0 0 0 0 0 0 0 0 0 0 0 0 0 0 0]\n"
          ]
        }
      ]
    },
    {
      "cell_type": "code",
      "source": [
        "# Print the model summary\n",
        "model.summary()\n"
      ],
      "metadata": {
        "id": "uIEIpb6JWFop",
        "outputId": "253c39b6-748f-4937-ef37-254a31abfff3",
        "colab": {
          "base_uri": "https://localhost:8080/",
          "height": 241
        }
      },
      "execution_count": null,
      "outputs": [
        {
          "output_type": "display_data",
          "data": {
            "text/plain": [
              "\u001b[1mModel: \"sequential\"\u001b[0m\n"
            ],
            "text/html": [
              "<pre style=\"white-space:pre;overflow-x:auto;line-height:normal;font-family:Menlo,'DejaVu Sans Mono',consolas,'Courier New',monospace\"><span style=\"font-weight: bold\">Model: \"sequential\"</span>\n",
              "</pre>\n"
            ]
          },
          "metadata": {}
        },
        {
          "output_type": "display_data",
          "data": {
            "text/plain": [
              "┏━━━━━━━━━━━━━━━━━━━━━━━━━━━━━━━━━━━━━━┳━━━━━━━━━━━━━━━━━━━━━━━━━━━━━┳━━━━━━━━━━━━━━━━━┓\n",
              "┃\u001b[1m \u001b[0m\u001b[1mLayer (type)                        \u001b[0m\u001b[1m \u001b[0m┃\u001b[1m \u001b[0m\u001b[1mOutput Shape               \u001b[0m\u001b[1m \u001b[0m┃\u001b[1m \u001b[0m\u001b[1m        Param #\u001b[0m\u001b[1m \u001b[0m┃\n",
              "┡━━━━━━━━━━━━━━━━━━━━━━━━━━━━━━━━━━━━━━╇━━━━━━━━━━━━━━━━━━━━━━━━━━━━━╇━━━━━━━━━━━━━━━━━┩\n",
              "│ dense (\u001b[38;5;33mDense\u001b[0m)                        │ (\u001b[38;5;45mNone\u001b[0m, \u001b[38;5;34m128\u001b[0m)                 │             \u001b[38;5;34m768\u001b[0m │\n",
              "├──────────────────────────────────────┼─────────────────────────────┼─────────────────┤\n",
              "│ dense_1 (\u001b[38;5;33mDense\u001b[0m)                      │ (\u001b[38;5;45mNone\u001b[0m, \u001b[38;5;34m64\u001b[0m)                  │           \u001b[38;5;34m8,256\u001b[0m │\n",
              "├──────────────────────────────────────┼─────────────────────────────┼─────────────────┤\n",
              "│ dense_2 (\u001b[38;5;33mDense\u001b[0m)                      │ (\u001b[38;5;45mNone\u001b[0m, \u001b[38;5;34m2\u001b[0m)                   │             \u001b[38;5;34m130\u001b[0m │\n",
              "└──────────────────────────────────────┴─────────────────────────────┴─────────────────┘\n"
            ],
            "text/html": [
              "<pre style=\"white-space:pre;overflow-x:auto;line-height:normal;font-family:Menlo,'DejaVu Sans Mono',consolas,'Courier New',monospace\">┏━━━━━━━━━━━━━━━━━━━━━━━━━━━━━━━━━━━━━━┳━━━━━━━━━━━━━━━━━━━━━━━━━━━━━┳━━━━━━━━━━━━━━━━━┓\n",
              "┃<span style=\"font-weight: bold\"> Layer (type)                         </span>┃<span style=\"font-weight: bold\"> Output Shape                </span>┃<span style=\"font-weight: bold\">         Param # </span>┃\n",
              "┡━━━━━━━━━━━━━━━━━━━━━━━━━━━━━━━━━━━━━━╇━━━━━━━━━━━━━━━━━━━━━━━━━━━━━╇━━━━━━━━━━━━━━━━━┩\n",
              "│ dense (<span style=\"color: #0087ff; text-decoration-color: #0087ff\">Dense</span>)                        │ (<span style=\"color: #00d7ff; text-decoration-color: #00d7ff\">None</span>, <span style=\"color: #00af00; text-decoration-color: #00af00\">128</span>)                 │             <span style=\"color: #00af00; text-decoration-color: #00af00\">768</span> │\n",
              "├──────────────────────────────────────┼─────────────────────────────┼─────────────────┤\n",
              "│ dense_1 (<span style=\"color: #0087ff; text-decoration-color: #0087ff\">Dense</span>)                      │ (<span style=\"color: #00d7ff; text-decoration-color: #00d7ff\">None</span>, <span style=\"color: #00af00; text-decoration-color: #00af00\">64</span>)                  │           <span style=\"color: #00af00; text-decoration-color: #00af00\">8,256</span> │\n",
              "├──────────────────────────────────────┼─────────────────────────────┼─────────────────┤\n",
              "│ dense_2 (<span style=\"color: #0087ff; text-decoration-color: #0087ff\">Dense</span>)                      │ (<span style=\"color: #00d7ff; text-decoration-color: #00d7ff\">None</span>, <span style=\"color: #00af00; text-decoration-color: #00af00\">2</span>)                   │             <span style=\"color: #00af00; text-decoration-color: #00af00\">130</span> │\n",
              "└──────────────────────────────────────┴─────────────────────────────┴─────────────────┘\n",
              "</pre>\n"
            ]
          },
          "metadata": {}
        },
        {
          "output_type": "display_data",
          "data": {
            "text/plain": [
              "\u001b[1m Total params: \u001b[0m\u001b[38;5;34m27,464\u001b[0m (107.29 KB)\n"
            ],
            "text/html": [
              "<pre style=\"white-space:pre;overflow-x:auto;line-height:normal;font-family:Menlo,'DejaVu Sans Mono',consolas,'Courier New',monospace\"><span style=\"font-weight: bold\"> Total params: </span><span style=\"color: #00af00; text-decoration-color: #00af00\">27,464</span> (107.29 KB)\n",
              "</pre>\n"
            ]
          },
          "metadata": {}
        },
        {
          "output_type": "display_data",
          "data": {
            "text/plain": [
              "\u001b[1m Trainable params: \u001b[0m\u001b[38;5;34m9,154\u001b[0m (35.76 KB)\n"
            ],
            "text/html": [
              "<pre style=\"white-space:pre;overflow-x:auto;line-height:normal;font-family:Menlo,'DejaVu Sans Mono',consolas,'Courier New',monospace\"><span style=\"font-weight: bold\"> Trainable params: </span><span style=\"color: #00af00; text-decoration-color: #00af00\">9,154</span> (35.76 KB)\n",
              "</pre>\n"
            ]
          },
          "metadata": {}
        },
        {
          "output_type": "display_data",
          "data": {
            "text/plain": [
              "\u001b[1m Non-trainable params: \u001b[0m\u001b[38;5;34m0\u001b[0m (0.00 B)\n"
            ],
            "text/html": [
              "<pre style=\"white-space:pre;overflow-x:auto;line-height:normal;font-family:Menlo,'DejaVu Sans Mono',consolas,'Courier New',monospace\"><span style=\"font-weight: bold\"> Non-trainable params: </span><span style=\"color: #00af00; text-decoration-color: #00af00\">0</span> (0.00 B)\n",
              "</pre>\n"
            ]
          },
          "metadata": {}
        },
        {
          "output_type": "display_data",
          "data": {
            "text/plain": [
              "\u001b[1m Optimizer params: \u001b[0m\u001b[38;5;34m18,310\u001b[0m (71.53 KB)\n"
            ],
            "text/html": [
              "<pre style=\"white-space:pre;overflow-x:auto;line-height:normal;font-family:Menlo,'DejaVu Sans Mono',consolas,'Courier New',monospace\"><span style=\"font-weight: bold\"> Optimizer params: </span><span style=\"color: #00af00; text-decoration-color: #00af00\">18,310</span> (71.53 KB)\n",
              "</pre>\n"
            ]
          },
          "metadata": {}
        }
      ]
    }
  ]
}